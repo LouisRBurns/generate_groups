{
 "cells": [
  {
   "cell_type": "markdown",
   "metadata": {},
   "source": [
    "# Generate Dissimilar Groups"
   ]
  },
  {
   "cell_type": "markdown",
   "metadata": {},
   "source": [
    "This notebook is to generate groups that optimize the amount of time every student spends in groups with different students. The basic rules are to specifcy any groups to avoid and to create groups that don't have more than two of the same students as before."
   ]
  },
  {
   "cell_type": "code",
   "execution_count": 1,
   "metadata": {},
   "outputs": [],
   "source": [
    "import numpy as np\n",
    "import pandas as pd\n",
    "from itertools import combinations\n",
    "import random"
   ]
  },
  {
   "cell_type": "code",
   "execution_count": 2,
   "metadata": {},
   "outputs": [],
   "source": [
    "# Read in students (if applicable) and convert to list\n",
    "\n",
    "# Sample class of 16 students (generating four groups of four)\n",
    "entire_class = ['Adam', 'Brenda', 'Chuck', 'Dora', \n",
    "                'Ernest', 'Fay', 'Guy', 'Helen', \n",
    "                'Igor', 'Julie', 'Kelly', 'Lisa',\n",
    "                'Mike', 'Nancy', 'Oliver', 'Pat']"
   ]
  },
  {
   "cell_type": "code",
   "execution_count": 3,
   "metadata": {},
   "outputs": [],
   "source": [
    "# Used when results are nested lists or tuples to flatten into a single list\n",
    "def flatten(nested_list):\n",
    "    return [item for sublist in nested_list for item in sublist]"
   ]
  },
  {
   "cell_type": "code",
   "execution_count": 4,
   "metadata": {},
   "outputs": [
    {
     "name": "stdout",
     "output_type": "stream",
     "text": [
      "False\n"
     ]
    }
   ],
   "source": [
    "# Function to check if any group members are the same\n",
    "def common_member(a, b): \n",
    "    return True if (set(a) & set(b)) else False\n",
    "\n",
    "# Test it out\n",
    "print(common_member([1, 2, 3], [6, 4, 5]))"
   ]
  },
  {
   "cell_type": "code",
   "execution_count": 5,
   "metadata": {},
   "outputs": [
    {
     "name": "stdout",
     "output_type": "stream",
     "text": [
      "Are the groups similar with 2 common members: False\n",
      "Are the groups similar with 3 common members: True\n"
     ]
    }
   ],
   "source": [
    "# Function to check if more than 2 members are the same:\n",
    "def similar_groups(group_1, group_2):\n",
    "    same = 0\n",
    "    for s1 in group_1:\n",
    "        for s2 in group_2: \n",
    "            if s1 == s2:\n",
    "                same +=1\n",
    "    return True if same > 2 else False\n",
    "\n",
    "# Test it out\n",
    "print(f'Are the groups similar with 2 common members: {similar_groups([1, 2, 3, 4], [3, 4, 5, 6])}')\n",
    "print(f'Are the groups similar with 3 common members: {similar_groups([1, 2, 3, 4], [2, 3, 4, 5])}')"
   ]
  },
  {
   "cell_type": "code",
   "execution_count": 6,
   "metadata": {},
   "outputs": [
    {
     "name": "stdout",
     "output_type": "stream",
     "text": [
      "There are 1820 possible groups.\n"
     ]
    }
   ],
   "source": [
    "# Generate all possible groups of four members\n",
    "all_groups = list(combinations(entire_class, 4))\n",
    "print(f'There are {len(all_groups)} possible groups.')"
   ]
  },
  {
   "cell_type": "code",
   "execution_count": 7,
   "metadata": {},
   "outputs": [],
   "source": [
    "# Add any groups you don't want created:\n",
    "past_groups = ['Adam', 'Guy', 'Oliver', 'Pat']"
   ]
  },
  {
   "cell_type": "code",
   "execution_count": 8,
   "metadata": {},
   "outputs": [],
   "source": [
    "# Function to generate one set of dissimilar groups\n",
    "def get_groups(all_groups = all_groups, past_groups = past_groups, n_groups = 4):\n",
    "    groups = []\n",
    "    for x in range(n_groups):\n",
    "        next_group = random.choice(all_groups)\n",
    "        while common_member(flatten(groups), next_group) or similar_groups(flatten(past_groups), next_group):\n",
    "            next_group = random.choice(all_groups)\n",
    "        groups.append(next_group)\n",
    "    past_groups.append(groups)\n",
    "    return groups"
   ]
  },
  {
   "cell_type": "code",
   "execution_count": 9,
   "metadata": {},
   "outputs": [],
   "source": [
    "# Function to schedule a number of weeks of groups\n",
    "def schedule_groups(past_groups = past_groups, weeks = 24):\n",
    "    schedule = []\n",
    "    for x in range(weeks):\n",
    "        schedule.append(get_groups(past_groups = past_groups))\n",
    "    return schedule"
   ]
  },
  {
   "cell_type": "code",
   "execution_count": 10,
   "metadata": {},
   "outputs": [
    {
     "data": {
      "text/html": [
       "<div>\n",
       "<style scoped>\n",
       "    .dataframe tbody tr th:only-of-type {\n",
       "        vertical-align: middle;\n",
       "    }\n",
       "\n",
       "    .dataframe tbody tr th {\n",
       "        vertical-align: top;\n",
       "    }\n",
       "\n",
       "    .dataframe thead th {\n",
       "        text-align: right;\n",
       "    }\n",
       "</style>\n",
       "<table border=\"1\" class=\"dataframe\">\n",
       "  <thead>\n",
       "    <tr style=\"text-align: right;\">\n",
       "      <th></th>\n",
       "      <th>Group 1</th>\n",
       "      <th>Group 2</th>\n",
       "      <th>Group 3</th>\n",
       "      <th>Group 4</th>\n",
       "    </tr>\n",
       "    <tr>\n",
       "      <th>week</th>\n",
       "      <th></th>\n",
       "      <th></th>\n",
       "      <th></th>\n",
       "      <th></th>\n",
       "    </tr>\n",
       "  </thead>\n",
       "  <tbody>\n",
       "    <tr>\n",
       "      <th>1</th>\n",
       "      <td>(Brenda, Chuck, Nancy, Oliver)</td>\n",
       "      <td>(Fay, Igor, Lisa, Mike)</td>\n",
       "      <td>(Adam, Helen, Julie, Kelly)</td>\n",
       "      <td>(Dora, Ernest, Guy, Pat)</td>\n",
       "    </tr>\n",
       "    <tr>\n",
       "      <th>2</th>\n",
       "      <td>(Chuck, Ernest, Fay, Lisa)</td>\n",
       "      <td>(Adam, Dora, Igor, Nancy)</td>\n",
       "      <td>(Brenda, Julie, Kelly, Pat)</td>\n",
       "      <td>(Guy, Helen, Mike, Oliver)</td>\n",
       "    </tr>\n",
       "    <tr>\n",
       "      <th>3</th>\n",
       "      <td>(Brenda, Igor, Mike, Oliver)</td>\n",
       "      <td>(Adam, Chuck, Fay, Lisa)</td>\n",
       "      <td>(Dora, Guy, Nancy, Pat)</td>\n",
       "      <td>(Ernest, Helen, Julie, Kelly)</td>\n",
       "    </tr>\n",
       "    <tr>\n",
       "      <th>4</th>\n",
       "      <td>(Dora, Kelly, Mike, Nancy)</td>\n",
       "      <td>(Fay, Guy, Oliver, Pat)</td>\n",
       "      <td>(Adam, Brenda, Helen, Igor)</td>\n",
       "      <td>(Chuck, Ernest, Julie, Lisa)</td>\n",
       "    </tr>\n",
       "    <tr>\n",
       "      <th>5</th>\n",
       "      <td>(Fay, Helen, Nancy, Pat)</td>\n",
       "      <td>(Adam, Chuck, Guy, Mike)</td>\n",
       "      <td>(Brenda, Igor, Julie, Oliver)</td>\n",
       "      <td>(Dora, Ernest, Kelly, Lisa)</td>\n",
       "    </tr>\n",
       "    <tr>\n",
       "      <th>6</th>\n",
       "      <td>(Dora, Guy, Mike, Nancy)</td>\n",
       "      <td>(Fay, Julie, Kelly, Oliver)</td>\n",
       "      <td>(Chuck, Helen, Lisa, Pat)</td>\n",
       "      <td>(Adam, Brenda, Ernest, Igor)</td>\n",
       "    </tr>\n",
       "    <tr>\n",
       "      <th>7</th>\n",
       "      <td>(Brenda, Igor, Kelly, Oliver)</td>\n",
       "      <td>(Fay, Helen, Mike, Nancy)</td>\n",
       "      <td>(Adam, Guy, Lisa, Pat)</td>\n",
       "      <td>(Chuck, Dora, Ernest, Julie)</td>\n",
       "    </tr>\n",
       "    <tr>\n",
       "      <th>8</th>\n",
       "      <td>(Dora, Lisa, Mike, Nancy)</td>\n",
       "      <td>(Adam, Brenda, Helen, Kelly)</td>\n",
       "      <td>(Ernest, Guy, Igor, Pat)</td>\n",
       "      <td>(Chuck, Fay, Julie, Oliver)</td>\n",
       "    </tr>\n",
       "  </tbody>\n",
       "</table>\n",
       "</div>"
      ],
      "text/plain": [
       "                             Group 1                       Group 2  \\\n",
       "week                                                                 \n",
       "1     (Brenda, Chuck, Nancy, Oliver)       (Fay, Igor, Lisa, Mike)   \n",
       "2         (Chuck, Ernest, Fay, Lisa)     (Adam, Dora, Igor, Nancy)   \n",
       "3       (Brenda, Igor, Mike, Oliver)      (Adam, Chuck, Fay, Lisa)   \n",
       "4         (Dora, Kelly, Mike, Nancy)       (Fay, Guy, Oliver, Pat)   \n",
       "5           (Fay, Helen, Nancy, Pat)      (Adam, Chuck, Guy, Mike)   \n",
       "6           (Dora, Guy, Mike, Nancy)   (Fay, Julie, Kelly, Oliver)   \n",
       "7      (Brenda, Igor, Kelly, Oliver)     (Fay, Helen, Mike, Nancy)   \n",
       "8          (Dora, Lisa, Mike, Nancy)  (Adam, Brenda, Helen, Kelly)   \n",
       "\n",
       "                            Group 3                        Group 4  \n",
       "week                                                                \n",
       "1       (Adam, Helen, Julie, Kelly)       (Dora, Ernest, Guy, Pat)  \n",
       "2       (Brenda, Julie, Kelly, Pat)     (Guy, Helen, Mike, Oliver)  \n",
       "3           (Dora, Guy, Nancy, Pat)  (Ernest, Helen, Julie, Kelly)  \n",
       "4       (Adam, Brenda, Helen, Igor)   (Chuck, Ernest, Julie, Lisa)  \n",
       "5     (Brenda, Igor, Julie, Oliver)    (Dora, Ernest, Kelly, Lisa)  \n",
       "6         (Chuck, Helen, Lisa, Pat)   (Adam, Brenda, Ernest, Igor)  \n",
       "7            (Adam, Guy, Lisa, Pat)   (Chuck, Dora, Ernest, Julie)  \n",
       "8          (Ernest, Guy, Igor, Pat)    (Chuck, Fay, Julie, Oliver)  "
      ]
     },
     "execution_count": 10,
     "metadata": {},
     "output_type": "execute_result"
    }
   ],
   "source": [
    "# Set the number of weeks (if not the default of 24)\n",
    "weeks = 8\n",
    "\n",
    "# Generate the groups as a DataFrame\n",
    "group_schedule = pd.DataFrame(schedule_groups(weeks = weeks))\n",
    "# Assign columns\n",
    "group_schedule.columns = ['Group 1', 'Group 2', 'Group 3', 'Group 4']\n",
    "# Add a weeks column\n",
    "group_schedule['week'] = range(1, weeks + 1)\n",
    "# Set the index to the week\n",
    "group_schedule = group_schedule.set_index('week')\n",
    "group_schedule"
   ]
  },
  {
   "cell_type": "code",
   "execution_count": 11,
   "metadata": {},
   "outputs": [
    {
     "data": {
      "text/plain": [
       "Group 1    (Brenda, Chuck, Nancy, Oliver)\n",
       "Group 2           (Fay, Igor, Lisa, Mike)\n",
       "Group 3       (Adam, Helen, Julie, Kelly)\n",
       "Group 4          (Dora, Ernest, Guy, Pat)\n",
       "Name: 1, dtype: object"
      ]
     },
     "execution_count": 11,
     "metadata": {},
     "output_type": "execute_result"
    }
   ],
   "source": [
    "# Check a week\n",
    "group_schedule.iloc[0]"
   ]
  },
  {
   "cell_type": "code",
   "execution_count": 12,
   "metadata": {},
   "outputs": [],
   "source": [
    "# Export to csv\n",
    "group_schedule.to_csv('groups.csv')"
   ]
  }
 ],
 "metadata": {
  "kernelspec": {
   "display_name": "Python 3",
   "language": "python",
   "name": "python3"
  },
  "language_info": {
   "codemirror_mode": {
    "name": "ipython",
    "version": 3
   },
   "file_extension": ".py",
   "mimetype": "text/x-python",
   "name": "python",
   "nbconvert_exporter": "python",
   "pygments_lexer": "ipython3",
   "version": "3.7.7"
  }
 },
 "nbformat": 4,
 "nbformat_minor": 4
}
